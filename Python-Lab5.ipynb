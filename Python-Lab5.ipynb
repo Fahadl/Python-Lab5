{
 "cells": [
  {
   "cell_type": "markdown",
   "id": "5576de1b",
   "metadata": {},
   "source": [
    "### Function that accept a number and prints it by descending order, then -1 and again. Try it! "
   ]
  },
  {
   "cell_type": "code",
   "execution_count": null,
   "id": "8b1bbed4",
   "metadata": {},
   "outputs": [],
   "source": [
    "Lists\n",
    "Given the following list : [5, 4, 17, 19, 30, 2, 7, 10, 45]\n",
    "\n",
    "\n",
    "\n",
    "\n"
   ]
  },
  {
   "cell_type": "code",
   "execution_count": 111,
   "id": "a6323d1a",
   "metadata": {},
   "outputs": [
    {
     "name": "stdout",
     "output_type": "stream",
     "text": [
      "139\n"
     ]
    }
   ],
   "source": [
    "# Q1: Write a Python program to sum all the items in the list.\n",
    "lst =[5, 4, 17, 19, 30, 2, 7, 10, 45]\n",
    "summ =0\n",
    "for i in lst:\n",
    "    summ = summ +i\n",
    "    \n",
    "print(summ)"
   ]
  },
  {
   "cell_type": "code",
   "execution_count": 115,
   "id": "254584d2",
   "metadata": {},
   "outputs": [
    {
     "name": "stdout",
     "output_type": "stream",
     "text": [
      "45\n"
     ]
    }
   ],
   "source": [
    "# Q2: Write a Python program to get the largest number from the list.\n",
    "lst =[5, 4, 17, 19, 30, 2, 7, 10, 45]\n",
    "tmp = 0\n",
    "for i in lst:\n",
    "    if(i > tmp):\n",
    "        tmp = i\n",
    "    \n",
    "print(tmp)\n",
    "    "
   ]
  },
  {
   "cell_type": "code",
   "execution_count": 117,
   "id": "65e8d65c",
   "metadata": {},
   "outputs": [
    {
     "name": "stdout",
     "output_type": "stream",
     "text": [
      "4\n",
      "30\n",
      "2\n",
      "10\n"
     ]
    },
    {
     "data": {
      "text/plain": [
       "[None, None, None, None]"
      ]
     },
     "execution_count": 117,
     "metadata": {},
     "output_type": "execute_result"
    }
   ],
   "source": [
    "# Q3: Use list comprehension, create a new list from the above list containing only even numbers.\n",
    "lst =[5, 4, 17, 19, 30, 2, 7, 10, 45]\n",
    "[print(x) for x in lst if x %2 ==0]"
   ]
  },
  {
   "cell_type": "code",
   "execution_count": 118,
   "id": "5cc0af11",
   "metadata": {},
   "outputs": [
    {
     "name": "stdout",
     "output_type": "stream",
     "text": [
      "[5, 4, 17, 19, 30]\n"
     ]
    }
   ],
   "source": [
    "# Q4: Use list slicing to get a new list from the previous list starting \n",
    "#     from the start to the 5th element in the list.\n",
    "print(lst[0:5])"
   ]
  }
 ],
 "metadata": {
  "kernelspec": {
   "display_name": "Python 3 (ipykernel)",
   "language": "python",
   "name": "python3"
  },
  "language_info": {
   "codemirror_mode": {
    "name": "ipython",
    "version": 3
   },
   "file_extension": ".py",
   "mimetype": "text/x-python",
   "name": "python",
   "nbconvert_exporter": "python",
   "pygments_lexer": "ipython3",
   "version": "3.9.13"
  }
 },
 "nbformat": 4,
 "nbformat_minor": 5
}
